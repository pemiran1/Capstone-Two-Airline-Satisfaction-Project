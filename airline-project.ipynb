{
 "cells": [
  {
   "cell_type": "code",
   "execution_count": 1,
   "id": "a7b996f7",
   "metadata": {
    "_cell_guid": "b1076dfc-b9ad-4769-8c92-a6c4dae69d19",
    "_uuid": "8f2839f25d086af736a60e9eeb907d3b93b6e0e5",
    "execution": {
     "iopub.execute_input": "2022-11-08T22:58:16.324625Z",
     "iopub.status.busy": "2022-11-08T22:58:16.324207Z",
     "iopub.status.idle": "2022-11-08T22:58:16.348380Z",
     "shell.execute_reply": "2022-11-08T22:58:16.347284Z"
    },
    "papermill": {
     "duration": 0.033614,
     "end_time": "2022-11-08T22:58:16.351246",
     "exception": false,
     "start_time": "2022-11-08T22:58:16.317632",
     "status": "completed"
    },
    "tags": []
   },
   "outputs": [
    {
     "name": "stdout",
     "output_type": "stream",
     "text": [
      "/kaggle/input/airline-passenger-satisfaction/train.csv\n",
      "/kaggle/input/airline-passenger-satisfaction/test.csv\n"
     ]
    }
   ],
   "source": [
    "# Libraries imported\n",
    "\n",
    "import numpy as np # linear algebra\n",
    "import pandas as pd # data processing, CSV file I/O (e.g. pd.read_csv)\n",
    "\n",
    "# Input data files are available in the read-only \"../input/\" directory\n",
    "\n",
    "import os\n",
    "for dirname, _, filenames in os.walk('/kaggle/input'):\n",
    "    for filename in filenames:\n",
    "        print(os.path.join(dirname, filename))"
   ]
  },
  {
   "cell_type": "code",
   "execution_count": 2,
   "id": "5dc62599",
   "metadata": {
    "execution": {
     "iopub.execute_input": "2022-11-08T22:58:16.362206Z",
     "iopub.status.busy": "2022-11-08T22:58:16.361857Z",
     "iopub.status.idle": "2022-11-08T22:58:16.722502Z",
     "shell.execute_reply": "2022-11-08T22:58:16.720587Z"
    },
    "papermill": {
     "duration": 0.369179,
     "end_time": "2022-11-08T22:58:16.725213",
     "exception": false,
     "start_time": "2022-11-08T22:58:16.356034",
     "status": "completed"
    },
    "tags": []
   },
   "outputs": [],
   "source": [
    "#csv file\n",
    "airline_data = pd.read_csv('/kaggle/input/airline-passenger-satisfaction/train.csv')"
   ]
  },
  {
   "cell_type": "code",
   "execution_count": 3,
   "id": "309b34b1",
   "metadata": {
    "execution": {
     "iopub.execute_input": "2022-11-08T22:58:16.736564Z",
     "iopub.status.busy": "2022-11-08T22:58:16.736165Z",
     "iopub.status.idle": "2022-11-08T22:58:16.783754Z",
     "shell.execute_reply": "2022-11-08T22:58:16.782369Z"
    },
    "papermill": {
     "duration": 0.056152,
     "end_time": "2022-11-08T22:58:16.786125",
     "exception": false,
     "start_time": "2022-11-08T22:58:16.729973",
     "status": "completed"
    },
    "tags": []
   },
   "outputs": [
    {
     "name": "stdout",
     "output_type": "stream",
     "text": [
      "<class 'pandas.core.frame.DataFrame'>\n",
      "RangeIndex: 103904 entries, 0 to 103903\n",
      "Data columns (total 25 columns):\n",
      " #   Column                             Non-Null Count   Dtype  \n",
      "---  ------                             --------------   -----  \n",
      " 0   Unnamed: 0                         103904 non-null  int64  \n",
      " 1   id                                 103904 non-null  int64  \n",
      " 2   Gender                             103904 non-null  object \n",
      " 3   Customer Type                      103904 non-null  object \n",
      " 4   Age                                103904 non-null  int64  \n",
      " 5   Type of Travel                     103904 non-null  object \n",
      " 6   Class                              103904 non-null  object \n",
      " 7   Flight Distance                    103904 non-null  int64  \n",
      " 8   Inflight wifi service              103904 non-null  int64  \n",
      " 9   Departure/Arrival time convenient  103904 non-null  int64  \n",
      " 10  Ease of Online booking             103904 non-null  int64  \n",
      " 11  Gate location                      103904 non-null  int64  \n",
      " 12  Food and drink                     103904 non-null  int64  \n",
      " 13  Online boarding                    103904 non-null  int64  \n",
      " 14  Seat comfort                       103904 non-null  int64  \n",
      " 15  Inflight entertainment             103904 non-null  int64  \n",
      " 16  On-board service                   103904 non-null  int64  \n",
      " 17  Leg room service                   103904 non-null  int64  \n",
      " 18  Baggage handling                   103904 non-null  int64  \n",
      " 19  Checkin service                    103904 non-null  int64  \n",
      " 20  Inflight service                   103904 non-null  int64  \n",
      " 21  Cleanliness                        103904 non-null  int64  \n",
      " 22  Departure Delay in Minutes         103904 non-null  int64  \n",
      " 23  Arrival Delay in Minutes           103594 non-null  float64\n",
      " 24  satisfaction                       103904 non-null  object \n",
      "dtypes: float64(1), int64(19), object(5)\n",
      "memory usage: 19.8+ MB\n"
     ]
    }
   ],
   "source": [
    "#info method on airline data\n",
    "airline_data.info()"
   ]
  },
  {
   "cell_type": "code",
   "execution_count": 4,
   "id": "1b16f0d2",
   "metadata": {
    "execution": {
     "iopub.execute_input": "2022-11-08T22:58:16.797997Z",
     "iopub.status.busy": "2022-11-08T22:58:16.796976Z",
     "iopub.status.idle": "2022-11-08T22:58:16.832600Z",
     "shell.execute_reply": "2022-11-08T22:58:16.831285Z"
    },
    "papermill": {
     "duration": 0.044018,
     "end_time": "2022-11-08T22:58:16.834925",
     "exception": false,
     "start_time": "2022-11-08T22:58:16.790907",
     "status": "completed"
    },
    "tags": []
   },
   "outputs": [
    {
     "data": {
      "text/html": [
       "<div>\n",
       "<style scoped>\n",
       "    .dataframe tbody tr th:only-of-type {\n",
       "        vertical-align: middle;\n",
       "    }\n",
       "\n",
       "    .dataframe tbody tr th {\n",
       "        vertical-align: top;\n",
       "    }\n",
       "\n",
       "    .dataframe thead th {\n",
       "        text-align: right;\n",
       "    }\n",
       "</style>\n",
       "<table border=\"1\" class=\"dataframe\">\n",
       "  <thead>\n",
       "    <tr style=\"text-align: right;\">\n",
       "      <th></th>\n",
       "      <th>Unnamed: 0</th>\n",
       "      <th>id</th>\n",
       "      <th>Gender</th>\n",
       "      <th>Customer Type</th>\n",
       "      <th>Age</th>\n",
       "      <th>Type of Travel</th>\n",
       "      <th>Class</th>\n",
       "      <th>Flight Distance</th>\n",
       "      <th>Inflight wifi service</th>\n",
       "      <th>Departure/Arrival time convenient</th>\n",
       "      <th>...</th>\n",
       "      <th>Inflight entertainment</th>\n",
       "      <th>On-board service</th>\n",
       "      <th>Leg room service</th>\n",
       "      <th>Baggage handling</th>\n",
       "      <th>Checkin service</th>\n",
       "      <th>Inflight service</th>\n",
       "      <th>Cleanliness</th>\n",
       "      <th>Departure Delay in Minutes</th>\n",
       "      <th>Arrival Delay in Minutes</th>\n",
       "      <th>satisfaction</th>\n",
       "    </tr>\n",
       "  </thead>\n",
       "  <tbody>\n",
       "    <tr>\n",
       "      <th>0</th>\n",
       "      <td>0</td>\n",
       "      <td>70172</td>\n",
       "      <td>Male</td>\n",
       "      <td>Loyal Customer</td>\n",
       "      <td>13</td>\n",
       "      <td>Personal Travel</td>\n",
       "      <td>Eco Plus</td>\n",
       "      <td>460</td>\n",
       "      <td>3</td>\n",
       "      <td>4</td>\n",
       "      <td>...</td>\n",
       "      <td>5</td>\n",
       "      <td>4</td>\n",
       "      <td>3</td>\n",
       "      <td>4</td>\n",
       "      <td>4</td>\n",
       "      <td>5</td>\n",
       "      <td>5</td>\n",
       "      <td>25</td>\n",
       "      <td>18.0</td>\n",
       "      <td>neutral or dissatisfied</td>\n",
       "    </tr>\n",
       "    <tr>\n",
       "      <th>1</th>\n",
       "      <td>1</td>\n",
       "      <td>5047</td>\n",
       "      <td>Male</td>\n",
       "      <td>disloyal Customer</td>\n",
       "      <td>25</td>\n",
       "      <td>Business travel</td>\n",
       "      <td>Business</td>\n",
       "      <td>235</td>\n",
       "      <td>3</td>\n",
       "      <td>2</td>\n",
       "      <td>...</td>\n",
       "      <td>1</td>\n",
       "      <td>1</td>\n",
       "      <td>5</td>\n",
       "      <td>3</td>\n",
       "      <td>1</td>\n",
       "      <td>4</td>\n",
       "      <td>1</td>\n",
       "      <td>1</td>\n",
       "      <td>6.0</td>\n",
       "      <td>neutral or dissatisfied</td>\n",
       "    </tr>\n",
       "    <tr>\n",
       "      <th>2</th>\n",
       "      <td>2</td>\n",
       "      <td>110028</td>\n",
       "      <td>Female</td>\n",
       "      <td>Loyal Customer</td>\n",
       "      <td>26</td>\n",
       "      <td>Business travel</td>\n",
       "      <td>Business</td>\n",
       "      <td>1142</td>\n",
       "      <td>2</td>\n",
       "      <td>2</td>\n",
       "      <td>...</td>\n",
       "      <td>5</td>\n",
       "      <td>4</td>\n",
       "      <td>3</td>\n",
       "      <td>4</td>\n",
       "      <td>4</td>\n",
       "      <td>4</td>\n",
       "      <td>5</td>\n",
       "      <td>0</td>\n",
       "      <td>0.0</td>\n",
       "      <td>satisfied</td>\n",
       "    </tr>\n",
       "    <tr>\n",
       "      <th>3</th>\n",
       "      <td>3</td>\n",
       "      <td>24026</td>\n",
       "      <td>Female</td>\n",
       "      <td>Loyal Customer</td>\n",
       "      <td>25</td>\n",
       "      <td>Business travel</td>\n",
       "      <td>Business</td>\n",
       "      <td>562</td>\n",
       "      <td>2</td>\n",
       "      <td>5</td>\n",
       "      <td>...</td>\n",
       "      <td>2</td>\n",
       "      <td>2</td>\n",
       "      <td>5</td>\n",
       "      <td>3</td>\n",
       "      <td>1</td>\n",
       "      <td>4</td>\n",
       "      <td>2</td>\n",
       "      <td>11</td>\n",
       "      <td>9.0</td>\n",
       "      <td>neutral or dissatisfied</td>\n",
       "    </tr>\n",
       "    <tr>\n",
       "      <th>4</th>\n",
       "      <td>4</td>\n",
       "      <td>119299</td>\n",
       "      <td>Male</td>\n",
       "      <td>Loyal Customer</td>\n",
       "      <td>61</td>\n",
       "      <td>Business travel</td>\n",
       "      <td>Business</td>\n",
       "      <td>214</td>\n",
       "      <td>3</td>\n",
       "      <td>3</td>\n",
       "      <td>...</td>\n",
       "      <td>3</td>\n",
       "      <td>3</td>\n",
       "      <td>4</td>\n",
       "      <td>4</td>\n",
       "      <td>3</td>\n",
       "      <td>3</td>\n",
       "      <td>3</td>\n",
       "      <td>0</td>\n",
       "      <td>0.0</td>\n",
       "      <td>satisfied</td>\n",
       "    </tr>\n",
       "  </tbody>\n",
       "</table>\n",
       "<p>5 rows × 25 columns</p>\n",
       "</div>"
      ],
      "text/plain": [
       "   Unnamed: 0      id  Gender      Customer Type  Age   Type of Travel  \\\n",
       "0           0   70172    Male     Loyal Customer   13  Personal Travel   \n",
       "1           1    5047    Male  disloyal Customer   25  Business travel   \n",
       "2           2  110028  Female     Loyal Customer   26  Business travel   \n",
       "3           3   24026  Female     Loyal Customer   25  Business travel   \n",
       "4           4  119299    Male     Loyal Customer   61  Business travel   \n",
       "\n",
       "      Class  Flight Distance  Inflight wifi service  \\\n",
       "0  Eco Plus              460                      3   \n",
       "1  Business              235                      3   \n",
       "2  Business             1142                      2   \n",
       "3  Business              562                      2   \n",
       "4  Business              214                      3   \n",
       "\n",
       "   Departure/Arrival time convenient  ...  Inflight entertainment  \\\n",
       "0                                  4  ...                       5   \n",
       "1                                  2  ...                       1   \n",
       "2                                  2  ...                       5   \n",
       "3                                  5  ...                       2   \n",
       "4                                  3  ...                       3   \n",
       "\n",
       "   On-board service  Leg room service  Baggage handling  Checkin service  \\\n",
       "0                 4                 3                 4                4   \n",
       "1                 1                 5                 3                1   \n",
       "2                 4                 3                 4                4   \n",
       "3                 2                 5                 3                1   \n",
       "4                 3                 4                 4                3   \n",
       "\n",
       "   Inflight service  Cleanliness  Departure Delay in Minutes  \\\n",
       "0                 5            5                          25   \n",
       "1                 4            1                           1   \n",
       "2                 4            5                           0   \n",
       "3                 4            2                          11   \n",
       "4                 3            3                           0   \n",
       "\n",
       "   Arrival Delay in Minutes             satisfaction  \n",
       "0                      18.0  neutral or dissatisfied  \n",
       "1                       6.0  neutral or dissatisfied  \n",
       "2                       0.0                satisfied  \n",
       "3                       9.0  neutral or dissatisfied  \n",
       "4                       0.0                satisfied  \n",
       "\n",
       "[5 rows x 25 columns]"
      ]
     },
     "execution_count": 4,
     "metadata": {},
     "output_type": "execute_result"
    }
   ],
   "source": [
    "#head method on airline data\n",
    "airline_data.head()"
   ]
  },
  {
   "cell_type": "code",
   "execution_count": 5,
   "id": "e32ab0ee",
   "metadata": {
    "execution": {
     "iopub.execute_input": "2022-11-08T22:58:16.847091Z",
     "iopub.status.busy": "2022-11-08T22:58:16.846009Z",
     "iopub.status.idle": "2022-11-08T22:58:16.902421Z",
     "shell.execute_reply": "2022-11-08T22:58:16.900473Z"
    },
    "papermill": {
     "duration": 0.064961,
     "end_time": "2022-11-08T22:58:16.904997",
     "exception": false,
     "start_time": "2022-11-08T22:58:16.840036",
     "status": "completed"
    },
    "tags": []
   },
   "outputs": [
    {
     "data": {
      "text/html": [
       "<div>\n",
       "<style scoped>\n",
       "    .dataframe tbody tr th:only-of-type {\n",
       "        vertical-align: middle;\n",
       "    }\n",
       "\n",
       "    .dataframe tbody tr th {\n",
       "        vertical-align: top;\n",
       "    }\n",
       "\n",
       "    .dataframe thead th {\n",
       "        text-align: right;\n",
       "    }\n",
       "</style>\n",
       "<table border=\"1\" class=\"dataframe\">\n",
       "  <thead>\n",
       "    <tr style=\"text-align: right;\">\n",
       "      <th></th>\n",
       "      <th>count</th>\n",
       "      <th>%</th>\n",
       "    </tr>\n",
       "  </thead>\n",
       "  <tbody>\n",
       "    <tr>\n",
       "      <th>Arrival Delay in Minutes</th>\n",
       "      <td>310</td>\n",
       "      <td>0.298352</td>\n",
       "    </tr>\n",
       "    <tr>\n",
       "      <th>Unnamed: 0</th>\n",
       "      <td>0</td>\n",
       "      <td>0.000000</td>\n",
       "    </tr>\n",
       "    <tr>\n",
       "      <th>Online boarding</th>\n",
       "      <td>0</td>\n",
       "      <td>0.000000</td>\n",
       "    </tr>\n",
       "    <tr>\n",
       "      <th>Departure Delay in Minutes</th>\n",
       "      <td>0</td>\n",
       "      <td>0.000000</td>\n",
       "    </tr>\n",
       "    <tr>\n",
       "      <th>Cleanliness</th>\n",
       "      <td>0</td>\n",
       "      <td>0.000000</td>\n",
       "    </tr>\n",
       "    <tr>\n",
       "      <th>Inflight service</th>\n",
       "      <td>0</td>\n",
       "      <td>0.000000</td>\n",
       "    </tr>\n",
       "    <tr>\n",
       "      <th>Checkin service</th>\n",
       "      <td>0</td>\n",
       "      <td>0.000000</td>\n",
       "    </tr>\n",
       "    <tr>\n",
       "      <th>Baggage handling</th>\n",
       "      <td>0</td>\n",
       "      <td>0.000000</td>\n",
       "    </tr>\n",
       "    <tr>\n",
       "      <th>Leg room service</th>\n",
       "      <td>0</td>\n",
       "      <td>0.000000</td>\n",
       "    </tr>\n",
       "    <tr>\n",
       "      <th>On-board service</th>\n",
       "      <td>0</td>\n",
       "      <td>0.000000</td>\n",
       "    </tr>\n",
       "    <tr>\n",
       "      <th>Inflight entertainment</th>\n",
       "      <td>0</td>\n",
       "      <td>0.000000</td>\n",
       "    </tr>\n",
       "    <tr>\n",
       "      <th>Seat comfort</th>\n",
       "      <td>0</td>\n",
       "      <td>0.000000</td>\n",
       "    </tr>\n",
       "    <tr>\n",
       "      <th>Food and drink</th>\n",
       "      <td>0</td>\n",
       "      <td>0.000000</td>\n",
       "    </tr>\n",
       "    <tr>\n",
       "      <th>id</th>\n",
       "      <td>0</td>\n",
       "      <td>0.000000</td>\n",
       "    </tr>\n",
       "    <tr>\n",
       "      <th>Gate location</th>\n",
       "      <td>0</td>\n",
       "      <td>0.000000</td>\n",
       "    </tr>\n",
       "    <tr>\n",
       "      <th>Ease of Online booking</th>\n",
       "      <td>0</td>\n",
       "      <td>0.000000</td>\n",
       "    </tr>\n",
       "    <tr>\n",
       "      <th>Departure/Arrival time convenient</th>\n",
       "      <td>0</td>\n",
       "      <td>0.000000</td>\n",
       "    </tr>\n",
       "    <tr>\n",
       "      <th>Inflight wifi service</th>\n",
       "      <td>0</td>\n",
       "      <td>0.000000</td>\n",
       "    </tr>\n",
       "    <tr>\n",
       "      <th>Flight Distance</th>\n",
       "      <td>0</td>\n",
       "      <td>0.000000</td>\n",
       "    </tr>\n",
       "    <tr>\n",
       "      <th>Class</th>\n",
       "      <td>0</td>\n",
       "      <td>0.000000</td>\n",
       "    </tr>\n",
       "    <tr>\n",
       "      <th>Type of Travel</th>\n",
       "      <td>0</td>\n",
       "      <td>0.000000</td>\n",
       "    </tr>\n",
       "    <tr>\n",
       "      <th>Age</th>\n",
       "      <td>0</td>\n",
       "      <td>0.000000</td>\n",
       "    </tr>\n",
       "    <tr>\n",
       "      <th>Customer Type</th>\n",
       "      <td>0</td>\n",
       "      <td>0.000000</td>\n",
       "    </tr>\n",
       "    <tr>\n",
       "      <th>Gender</th>\n",
       "      <td>0</td>\n",
       "      <td>0.000000</td>\n",
       "    </tr>\n",
       "    <tr>\n",
       "      <th>satisfaction</th>\n",
       "      <td>0</td>\n",
       "      <td>0.000000</td>\n",
       "    </tr>\n",
       "  </tbody>\n",
       "</table>\n",
       "</div>"
      ],
      "text/plain": [
       "                                   count         %\n",
       "Arrival Delay in Minutes             310  0.298352\n",
       "Unnamed: 0                             0  0.000000\n",
       "Online boarding                        0  0.000000\n",
       "Departure Delay in Minutes             0  0.000000\n",
       "Cleanliness                            0  0.000000\n",
       "Inflight service                       0  0.000000\n",
       "Checkin service                        0  0.000000\n",
       "Baggage handling                       0  0.000000\n",
       "Leg room service                       0  0.000000\n",
       "On-board service                       0  0.000000\n",
       "Inflight entertainment                 0  0.000000\n",
       "Seat comfort                           0  0.000000\n",
       "Food and drink                         0  0.000000\n",
       "id                                     0  0.000000\n",
       "Gate location                          0  0.000000\n",
       "Ease of Online booking                 0  0.000000\n",
       "Departure/Arrival time convenient      0  0.000000\n",
       "Inflight wifi service                  0  0.000000\n",
       "Flight Distance                        0  0.000000\n",
       "Class                                  0  0.000000\n",
       "Type of Travel                         0  0.000000\n",
       "Age                                    0  0.000000\n",
       "Customer Type                          0  0.000000\n",
       "Gender                                 0  0.000000\n",
       "satisfaction                           0  0.000000"
      ]
     },
     "execution_count": 5,
     "metadata": {},
     "output_type": "execute_result"
    }
   ],
   "source": [
    "#Check missing data\n",
    "missing = pd.concat([airline_data.isnull().sum(), 100 * airline_data.isnull().mean()], axis=1)\n",
    "missing.columns=['count', '%']\n",
    "missing.sort_values(by='count', ascending = False)"
   ]
  },
  {
   "cell_type": "code",
   "execution_count": 6,
   "id": "d8004ab0",
   "metadata": {
    "execution": {
     "iopub.execute_input": "2022-11-08T22:58:16.917116Z",
     "iopub.status.busy": "2022-11-08T22:58:16.916754Z",
     "iopub.status.idle": "2022-11-08T22:58:16.934274Z",
     "shell.execute_reply": "2022-11-08T22:58:16.933364Z"
    },
    "papermill": {
     "duration": 0.025903,
     "end_time": "2022-11-08T22:58:16.936358",
     "exception": false,
     "start_time": "2022-11-08T22:58:16.910455",
     "status": "completed"
    },
    "tags": []
   },
   "outputs": [
    {
     "data": {
      "text/html": [
       "<div>\n",
       "<style scoped>\n",
       "    .dataframe tbody tr th:only-of-type {\n",
       "        vertical-align: middle;\n",
       "    }\n",
       "\n",
       "    .dataframe tbody tr th {\n",
       "        vertical-align: top;\n",
       "    }\n",
       "\n",
       "    .dataframe thead th {\n",
       "        text-align: right;\n",
       "    }\n",
       "</style>\n",
       "<table border=\"1\" class=\"dataframe\">\n",
       "  <thead>\n",
       "    <tr style=\"text-align: right;\">\n",
       "      <th></th>\n",
       "      <th>Gender</th>\n",
       "      <th>Customer Type</th>\n",
       "      <th>Type of Travel</th>\n",
       "      <th>Class</th>\n",
       "      <th>satisfaction</th>\n",
       "    </tr>\n",
       "  </thead>\n",
       "  <tbody>\n",
       "    <tr>\n",
       "      <th>0</th>\n",
       "      <td>Male</td>\n",
       "      <td>Loyal Customer</td>\n",
       "      <td>Personal Travel</td>\n",
       "      <td>Eco Plus</td>\n",
       "      <td>neutral or dissatisfied</td>\n",
       "    </tr>\n",
       "    <tr>\n",
       "      <th>1</th>\n",
       "      <td>Male</td>\n",
       "      <td>disloyal Customer</td>\n",
       "      <td>Business travel</td>\n",
       "      <td>Business</td>\n",
       "      <td>neutral or dissatisfied</td>\n",
       "    </tr>\n",
       "    <tr>\n",
       "      <th>2</th>\n",
       "      <td>Female</td>\n",
       "      <td>Loyal Customer</td>\n",
       "      <td>Business travel</td>\n",
       "      <td>Business</td>\n",
       "      <td>satisfied</td>\n",
       "    </tr>\n",
       "    <tr>\n",
       "      <th>3</th>\n",
       "      <td>Female</td>\n",
       "      <td>Loyal Customer</td>\n",
       "      <td>Business travel</td>\n",
       "      <td>Business</td>\n",
       "      <td>neutral or dissatisfied</td>\n",
       "    </tr>\n",
       "    <tr>\n",
       "      <th>4</th>\n",
       "      <td>Male</td>\n",
       "      <td>Loyal Customer</td>\n",
       "      <td>Business travel</td>\n",
       "      <td>Business</td>\n",
       "      <td>satisfied</td>\n",
       "    </tr>\n",
       "    <tr>\n",
       "      <th>...</th>\n",
       "      <td>...</td>\n",
       "      <td>...</td>\n",
       "      <td>...</td>\n",
       "      <td>...</td>\n",
       "      <td>...</td>\n",
       "    </tr>\n",
       "    <tr>\n",
       "      <th>103899</th>\n",
       "      <td>Female</td>\n",
       "      <td>disloyal Customer</td>\n",
       "      <td>Business travel</td>\n",
       "      <td>Eco</td>\n",
       "      <td>neutral or dissatisfied</td>\n",
       "    </tr>\n",
       "    <tr>\n",
       "      <th>103900</th>\n",
       "      <td>Male</td>\n",
       "      <td>Loyal Customer</td>\n",
       "      <td>Business travel</td>\n",
       "      <td>Business</td>\n",
       "      <td>satisfied</td>\n",
       "    </tr>\n",
       "    <tr>\n",
       "      <th>103901</th>\n",
       "      <td>Male</td>\n",
       "      <td>disloyal Customer</td>\n",
       "      <td>Business travel</td>\n",
       "      <td>Business</td>\n",
       "      <td>neutral or dissatisfied</td>\n",
       "    </tr>\n",
       "    <tr>\n",
       "      <th>103902</th>\n",
       "      <td>Female</td>\n",
       "      <td>disloyal Customer</td>\n",
       "      <td>Business travel</td>\n",
       "      <td>Eco</td>\n",
       "      <td>neutral or dissatisfied</td>\n",
       "    </tr>\n",
       "    <tr>\n",
       "      <th>103903</th>\n",
       "      <td>Male</td>\n",
       "      <td>Loyal Customer</td>\n",
       "      <td>Business travel</td>\n",
       "      <td>Business</td>\n",
       "      <td>neutral or dissatisfied</td>\n",
       "    </tr>\n",
       "  </tbody>\n",
       "</table>\n",
       "<p>103904 rows × 5 columns</p>\n",
       "</div>"
      ],
      "text/plain": [
       "        Gender      Customer Type   Type of Travel     Class  \\\n",
       "0         Male     Loyal Customer  Personal Travel  Eco Plus   \n",
       "1         Male  disloyal Customer  Business travel  Business   \n",
       "2       Female     Loyal Customer  Business travel  Business   \n",
       "3       Female     Loyal Customer  Business travel  Business   \n",
       "4         Male     Loyal Customer  Business travel  Business   \n",
       "...        ...                ...              ...       ...   \n",
       "103899  Female  disloyal Customer  Business travel       Eco   \n",
       "103900    Male     Loyal Customer  Business travel  Business   \n",
       "103901    Male  disloyal Customer  Business travel  Business   \n",
       "103902  Female  disloyal Customer  Business travel       Eco   \n",
       "103903    Male     Loyal Customer  Business travel  Business   \n",
       "\n",
       "                   satisfaction  \n",
       "0       neutral or dissatisfied  \n",
       "1       neutral or dissatisfied  \n",
       "2                     satisfied  \n",
       "3       neutral or dissatisfied  \n",
       "4                     satisfied  \n",
       "...                         ...  \n",
       "103899  neutral or dissatisfied  \n",
       "103900                satisfied  \n",
       "103901  neutral or dissatisfied  \n",
       "103902  neutral or dissatisfied  \n",
       "103903  neutral or dissatisfied  \n",
       "\n",
       "[103904 rows x 5 columns]"
      ]
     },
     "execution_count": 6,
     "metadata": {},
     "output_type": "execute_result"
    }
   ],
   "source": [
    "#Select dtypes\n",
    "airline_data.select_dtypes(object)"
   ]
  },
  {
   "cell_type": "code",
   "execution_count": 7,
   "id": "a293e3d3",
   "metadata": {
    "execution": {
     "iopub.execute_input": "2022-11-08T22:58:16.949276Z",
     "iopub.status.busy": "2022-11-08T22:58:16.948121Z",
     "iopub.status.idle": "2022-11-08T22:58:16.963393Z",
     "shell.execute_reply": "2022-11-08T22:58:16.962484Z"
    },
    "papermill": {
     "duration": 0.02392,
     "end_time": "2022-11-08T22:58:16.965753",
     "exception": false,
     "start_time": "2022-11-08T22:58:16.941833",
     "status": "completed"
    },
    "tags": []
   },
   "outputs": [
    {
     "data": {
      "text/plain": [
       "70172     1\n",
       "116739    1\n",
       "6259      1\n",
       "17470     1\n",
       "118574    1\n",
       "Name: id, dtype: int64"
      ]
     },
     "execution_count": 7,
     "metadata": {},
     "output_type": "execute_result"
    }
   ],
   "source": [
    "#Value counts method for duplicate id's\n",
    "airline_data['id'].value_counts().head()"
   ]
  },
  {
   "cell_type": "code",
   "execution_count": 8,
   "id": "6f56d5cd",
   "metadata": {
    "execution": {
     "iopub.execute_input": "2022-11-08T22:58:16.977862Z",
     "iopub.status.busy": "2022-11-08T22:58:16.977527Z",
     "iopub.status.idle": "2022-11-08T22:58:16.993520Z",
     "shell.execute_reply": "2022-11-08T22:58:16.992215Z"
    },
    "papermill": {
     "duration": 0.024404,
     "end_time": "2022-11-08T22:58:16.995657",
     "exception": false,
     "start_time": "2022-11-08T22:58:16.971253",
     "status": "completed"
    },
    "tags": []
   },
   "outputs": [
    {
     "data": {
      "text/plain": [
       "Female    52727\n",
       "Male      51177\n",
       "Name: Gender, dtype: int64"
      ]
     },
     "execution_count": 8,
     "metadata": {},
     "output_type": "execute_result"
    }
   ],
   "source": [
    "#count number of times both genders have been used\n",
    "airline_data['Gender'].value_counts()"
   ]
  },
  {
   "cell_type": "code",
   "execution_count": 9,
   "id": "63dd2169",
   "metadata": {
    "execution": {
     "iopub.execute_input": "2022-11-08T22:58:17.009786Z",
     "iopub.status.busy": "2022-11-08T22:58:17.009430Z",
     "iopub.status.idle": "2022-11-08T22:58:17.019141Z",
     "shell.execute_reply": "2022-11-08T22:58:17.017692Z"
    },
    "papermill": {
     "duration": 0.019089,
     "end_time": "2022-11-08T22:58:17.021804",
     "exception": false,
     "start_time": "2022-11-08T22:58:17.002715",
     "status": "completed"
    },
    "tags": []
   },
   "outputs": [
    {
     "data": {
      "text/plain": [
       "39    2969\n",
       "25    2798\n",
       "40    2574\n",
       "44    2482\n",
       "42    2457\n",
       "      ... \n",
       "74      47\n",
       "76      45\n",
       "79      42\n",
       "78      33\n",
       "85      17\n",
       "Name: Age, Length: 75, dtype: int64"
      ]
     },
     "execution_count": 9,
     "metadata": {},
     "output_type": "execute_result"
    }
   ],
   "source": [
    "#count number of times ages have been used\n",
    "airline_data['Age'].value_counts()"
   ]
  },
  {
   "cell_type": "code",
   "execution_count": 10,
   "id": "e3206c1c",
   "metadata": {
    "execution": {
     "iopub.execute_input": "2022-11-08T22:58:17.035995Z",
     "iopub.status.busy": "2022-11-08T22:58:17.035019Z",
     "iopub.status.idle": "2022-11-08T22:58:17.048902Z",
     "shell.execute_reply": "2022-11-08T22:58:17.047870Z"
    },
    "papermill": {
     "duration": 0.023211,
     "end_time": "2022-11-08T22:58:17.051198",
     "exception": false,
     "start_time": "2022-11-08T22:58:17.027987",
     "status": "completed"
    },
    "tags": []
   },
   "outputs": [
    {
     "data": {
      "text/plain": [
       "Loyal Customer       84923\n",
       "disloyal Customer    18981\n",
       "Name: Customer Type, dtype: int64"
      ]
     },
     "execution_count": 10,
     "metadata": {},
     "output_type": "execute_result"
    }
   ],
   "source": [
    "#count number of times customer types have been used\n",
    "airline_data['Customer Type'].value_counts()"
   ]
  },
  {
   "cell_type": "code",
   "execution_count": 11,
   "id": "99f9f491",
   "metadata": {
    "execution": {
     "iopub.execute_input": "2022-11-08T22:58:17.064608Z",
     "iopub.status.busy": "2022-11-08T22:58:17.063951Z",
     "iopub.status.idle": "2022-11-08T22:58:17.076323Z",
     "shell.execute_reply": "2022-11-08T22:58:17.074957Z"
    },
    "papermill": {
     "duration": 0.021626,
     "end_time": "2022-11-08T22:58:17.078737",
     "exception": false,
     "start_time": "2022-11-08T22:58:17.057111",
     "status": "completed"
    },
    "tags": []
   },
   "outputs": [
    {
     "data": {
      "text/plain": [
       "Business travel    71655\n",
       "Personal Travel    32249\n",
       "Name: Type of Travel, dtype: int64"
      ]
     },
     "execution_count": 11,
     "metadata": {},
     "output_type": "execute_result"
    }
   ],
   "source": [
    "#count number of times Travel types have been used\n",
    "airline_data['Type of Travel'].value_counts()"
   ]
  },
  {
   "cell_type": "code",
   "execution_count": 12,
   "id": "bd119172",
   "metadata": {
    "execution": {
     "iopub.execute_input": "2022-11-08T22:58:17.092699Z",
     "iopub.status.busy": "2022-11-08T22:58:17.092245Z",
     "iopub.status.idle": "2022-11-08T22:58:17.106972Z",
     "shell.execute_reply": "2022-11-08T22:58:17.105572Z"
    },
    "papermill": {
     "duration": 0.02406,
     "end_time": "2022-11-08T22:58:17.108979",
     "exception": false,
     "start_time": "2022-11-08T22:58:17.084919",
     "status": "completed"
    },
    "tags": []
   },
   "outputs": [
    {
     "data": {
      "text/plain": [
       "Business    49665\n",
       "Eco         46745\n",
       "Eco Plus     7494\n",
       "Name: Class, dtype: int64"
      ]
     },
     "execution_count": 12,
     "metadata": {},
     "output_type": "execute_result"
    }
   ],
   "source": [
    "#count number of times class has been used\n",
    "airline_data['Class'].value_counts()"
   ]
  },
  {
   "cell_type": "code",
   "execution_count": 13,
   "id": "6612d30a",
   "metadata": {
    "execution": {
     "iopub.execute_input": "2022-11-08T22:58:17.122807Z",
     "iopub.status.busy": "2022-11-08T22:58:17.122409Z",
     "iopub.status.idle": "2022-11-08T22:58:17.135912Z",
     "shell.execute_reply": "2022-11-08T22:58:17.134730Z"
    },
    "papermill": {
     "duration": 0.023748,
     "end_time": "2022-11-08T22:58:17.138731",
     "exception": false,
     "start_time": "2022-11-08T22:58:17.114983",
     "status": "completed"
    },
    "tags": []
   },
   "outputs": [
    {
     "data": {
      "text/plain": [
       "neutral or dissatisfied    58879\n",
       "satisfied                  45025\n",
       "Name: satisfaction, dtype: int64"
      ]
     },
     "execution_count": 13,
     "metadata": {},
     "output_type": "execute_result"
    }
   ],
   "source": [
    "#count number of times satisfaction has been marked\n",
    "airline_data['satisfaction'].value_counts()"
   ]
  },
  {
   "cell_type": "code",
   "execution_count": 14,
   "id": "37b4311d",
   "metadata": {
    "execution": {
     "iopub.execute_input": "2022-11-08T22:58:17.154563Z",
     "iopub.status.busy": "2022-11-08T22:58:17.153182Z",
     "iopub.status.idle": "2022-11-08T22:58:17.212632Z",
     "shell.execute_reply": "2022-11-08T22:58:17.211788Z"
    },
    "papermill": {
     "duration": 0.069311,
     "end_time": "2022-11-08T22:58:17.214425",
     "exception": false,
     "start_time": "2022-11-08T22:58:17.145114",
     "status": "completed"
    },
    "tags": []
   },
   "outputs": [
    {
     "data": {
      "text/plain": [
       "Class     satisfaction           \n",
       "Business  satisfied                  34480\n",
       "          neutral or dissatisfied    15185\n",
       "Eco       neutral or dissatisfied    38044\n",
       "          satisfied                   8701\n",
       "Eco Plus  neutral or dissatisfied     5650\n",
       "          satisfied                   1844\n",
       "Name: satisfaction, dtype: int64"
      ]
     },
     "execution_count": 14,
     "metadata": {},
     "output_type": "execute_result"
    }
   ],
   "source": [
    "#Filter the airline_data dataframe for rows where 'Class' and 'satisfaction' are different,\n",
    "#group by method\n",
    "(airline_data[airline_data.Class != airline_data.satisfaction]\n",
    " .groupby('Class')['satisfaction']\n",
    " .value_counts())"
   ]
  },
  {
   "cell_type": "code",
   "execution_count": 15,
   "id": "d19a84fc",
   "metadata": {
    "execution": {
     "iopub.execute_input": "2022-11-08T22:58:17.229093Z",
     "iopub.status.busy": "2022-11-08T22:58:17.227937Z",
     "iopub.status.idle": "2022-11-08T22:58:17.284547Z",
     "shell.execute_reply": "2022-11-08T22:58:17.283041Z"
    },
    "papermill": {
     "duration": 0.066734,
     "end_time": "2022-11-08T22:58:17.287292",
     "exception": false,
     "start_time": "2022-11-08T22:58:17.220558",
     "status": "completed"
    },
    "tags": []
   },
   "outputs": [
    {
     "data": {
      "text/plain": [
       "Gender  satisfaction           \n",
       "Female  neutral or dissatisfied    30193\n",
       "        satisfied                  22534\n",
       "Male    neutral or dissatisfied    28686\n",
       "        satisfied                  22491\n",
       "Name: satisfaction, dtype: int64"
      ]
     },
     "execution_count": 15,
     "metadata": {},
     "output_type": "execute_result"
    }
   ],
   "source": [
    "#Filter the airline_data dataframe for rows where 'Gender' and 'satisfaction' are different,\n",
    "#group by method\n",
    "(airline_data[airline_data.Gender != airline_data.satisfaction]\n",
    " .groupby('Gender')['satisfaction']\n",
    " .value_counts())"
   ]
  },
  {
   "cell_type": "code",
   "execution_count": 16,
   "id": "1c5f3585",
   "metadata": {
    "execution": {
     "iopub.execute_input": "2022-11-08T22:58:17.301696Z",
     "iopub.status.busy": "2022-11-08T22:58:17.301305Z",
     "iopub.status.idle": "2022-11-08T22:58:17.328052Z",
     "shell.execute_reply": "2022-11-08T22:58:17.327286Z"
    },
    "papermill": {
     "duration": 0.036045,
     "end_time": "2022-11-08T22:58:17.329879",
     "exception": false,
     "start_time": "2022-11-08T22:58:17.293834",
     "status": "completed"
    },
    "tags": []
   },
   "outputs": [
    {
     "data": {
      "text/plain": [
       "Class           3\n",
       "satisfaction    2\n",
       "dtype: int64"
      ]
     },
     "execution_count": 16,
     "metadata": {},
     "output_type": "execute_result"
    }
   ],
   "source": [
    "airline_data[['Class', 'satisfaction']].nunique()"
   ]
  },
  {
   "cell_type": "code",
   "execution_count": 17,
   "id": "91ab3182",
   "metadata": {
    "execution": {
     "iopub.execute_input": "2022-11-08T22:58:17.345785Z",
     "iopub.status.busy": "2022-11-08T22:58:17.344902Z",
     "iopub.status.idle": "2022-11-08T22:58:17.370867Z",
     "shell.execute_reply": "2022-11-08T22:58:17.369713Z"
    },
    "papermill": {
     "duration": 0.036091,
     "end_time": "2022-11-08T22:58:17.372721",
     "exception": false,
     "start_time": "2022-11-08T22:58:17.336630",
     "status": "completed"
    },
    "tags": []
   },
   "outputs": [
    {
     "data": {
      "text/plain": [
       "Gender          2\n",
       "satisfaction    2\n",
       "dtype: int64"
      ]
     },
     "execution_count": 17,
     "metadata": {},
     "output_type": "execute_result"
    }
   ],
   "source": [
    "airline_data[['Gender', 'satisfaction']].nunique()"
   ]
  },
  {
   "cell_type": "code",
   "execution_count": null,
   "id": "1867f904",
   "metadata": {
    "papermill": {
     "duration": 0.006356,
     "end_time": "2022-11-08T22:58:17.386085",
     "exception": false,
     "start_time": "2022-11-08T22:58:17.379729",
     "status": "completed"
    },
    "tags": []
   },
   "outputs": [],
   "source": []
  },
  {
   "cell_type": "code",
   "execution_count": null,
   "id": "389f1e3e",
   "metadata": {
    "papermill": {
     "duration": 0.006174,
     "end_time": "2022-11-08T22:58:17.398668",
     "exception": false,
     "start_time": "2022-11-08T22:58:17.392494",
     "status": "completed"
    },
    "tags": []
   },
   "outputs": [],
   "source": []
  }
 ],
 "metadata": {
  "kernelspec": {
   "display_name": "Python 3",
   "language": "python",
   "name": "python3"
  },
  "language_info": {
   "codemirror_mode": {
    "name": "ipython",
    "version": 3
   },
   "file_extension": ".py",
   "mimetype": "text/x-python",
   "name": "python",
   "nbconvert_exporter": "python",
   "pygments_lexer": "ipython3",
   "version": "3.7.12"
  },
  "papermill": {
   "default_parameters": {},
   "duration": 9.082235,
   "end_time": "2022-11-08T22:58:18.026732",
   "environment_variables": {},
   "exception": null,
   "input_path": "__notebook__.ipynb",
   "output_path": "__notebook__.ipynb",
   "parameters": {},
   "start_time": "2022-11-08T22:58:08.944497",
   "version": "2.3.4"
  }
 },
 "nbformat": 4,
 "nbformat_minor": 5
}
