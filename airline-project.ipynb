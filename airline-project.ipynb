{
 "cells": [
  {
   "cell_type": "code",
   "execution_count": 1,
   "id": "11b2aa39",
   "metadata": {
    "_cell_guid": "b1076dfc-b9ad-4769-8c92-a6c4dae69d19",
    "_uuid": "8f2839f25d086af736a60e9eeb907d3b93b6e0e5",
    "execution": {
     "iopub.execute_input": "2022-11-09T15:39:03.949484Z",
     "iopub.status.busy": "2022-11-09T15:39:03.948947Z",
     "iopub.status.idle": "2022-11-09T15:39:05.102133Z",
     "shell.execute_reply": "2022-11-09T15:39:05.100865Z"
    },
    "papermill": {
     "duration": 1.16444,
     "end_time": "2022-11-09T15:39:05.105030",
     "exception": false,
     "start_time": "2022-11-09T15:39:03.940590",
     "status": "completed"
    },
    "tags": []
   },
   "outputs": [
    {
     "name": "stdout",
     "output_type": "stream",
     "text": [
      "/kaggle/input/airline-passenger-satisfaction/train.csv\n",
      "/kaggle/input/airline-passenger-satisfaction/test.csv\n"
     ]
    }
   ],
   "source": [
    "# Libraries imported\n",
    "\n",
    "import numpy as np # linear algebra\n",
    "import pandas as pd # data processing, CSV file I/O (e.g. pd.read_csv)\n",
    "import matplotlib.pyplot as plt\n",
    "import seaborn as sns\n",
    "import os\n",
    "\n",
    "# Input data files are available in the read-only \"../input/\" directory\n",
    "\n",
    "import os\n",
    "for dirname, _, filenames in os.walk('/kaggle/input'):\n",
    "    for filename in filenames:\n",
    "        print(os.path.join(dirname, filename))"
   ]
  },
  {
   "cell_type": "code",
   "execution_count": 2,
   "id": "dad8d7f0",
   "metadata": {
    "execution": {
     "iopub.execute_input": "2022-11-09T15:39:05.118608Z",
     "iopub.status.busy": "2022-11-09T15:39:05.117789Z",
     "iopub.status.idle": "2022-11-09T15:39:05.538196Z",
     "shell.execute_reply": "2022-11-09T15:39:05.536847Z"
    },
    "papermill": {
     "duration": 0.430023,
     "end_time": "2022-11-09T15:39:05.540850",
     "exception": false,
     "start_time": "2022-11-09T15:39:05.110827",
     "status": "completed"
    },
    "tags": []
   },
   "outputs": [],
   "source": [
    "#csv file\n",
    "airline_data = pd.read_csv('/kaggle/input/airline-passenger-satisfaction/train.csv')"
   ]
  },
  {
   "cell_type": "code",
   "execution_count": 3,
   "id": "34ddff7c",
   "metadata": {
    "execution": {
     "iopub.execute_input": "2022-11-09T15:39:05.553889Z",
     "iopub.status.busy": "2022-11-09T15:39:05.553491Z",
     "iopub.status.idle": "2022-11-09T15:39:05.608519Z",
     "shell.execute_reply": "2022-11-09T15:39:05.607671Z"
    },
    "papermill": {
     "duration": 0.065892,
     "end_time": "2022-11-09T15:39:05.612396",
     "exception": false,
     "start_time": "2022-11-09T15:39:05.546504",
     "status": "completed"
    },
    "tags": []
   },
   "outputs": [
    {
     "name": "stdout",
     "output_type": "stream",
     "text": [
      "<class 'pandas.core.frame.DataFrame'>\n",
      "RangeIndex: 103904 entries, 0 to 103903\n",
      "Data columns (total 25 columns):\n",
      " #   Column                             Non-Null Count   Dtype  \n",
      "---  ------                             --------------   -----  \n",
      " 0   Unnamed: 0                         103904 non-null  int64  \n",
      " 1   id                                 103904 non-null  int64  \n",
      " 2   Gender                             103904 non-null  object \n",
      " 3   Customer Type                      103904 non-null  object \n",
      " 4   Age                                103904 non-null  int64  \n",
      " 5   Type of Travel                     103904 non-null  object \n",
      " 6   Class                              103904 non-null  object \n",
      " 7   Flight Distance                    103904 non-null  int64  \n",
      " 8   Inflight wifi service              103904 non-null  int64  \n",
      " 9   Departure/Arrival time convenient  103904 non-null  int64  \n",
      " 10  Ease of Online booking             103904 non-null  int64  \n",
      " 11  Gate location                      103904 non-null  int64  \n",
      " 12  Food and drink                     103904 non-null  int64  \n",
      " 13  Online boarding                    103904 non-null  int64  \n",
      " 14  Seat comfort                       103904 non-null  int64  \n",
      " 15  Inflight entertainment             103904 non-null  int64  \n",
      " 16  On-board service                   103904 non-null  int64  \n",
      " 17  Leg room service                   103904 non-null  int64  \n",
      " 18  Baggage handling                   103904 non-null  int64  \n",
      " 19  Checkin service                    103904 non-null  int64  \n",
      " 20  Inflight service                   103904 non-null  int64  \n",
      " 21  Cleanliness                        103904 non-null  int64  \n",
      " 22  Departure Delay in Minutes         103904 non-null  int64  \n",
      " 23  Arrival Delay in Minutes           103594 non-null  float64\n",
      " 24  satisfaction                       103904 non-null  object \n",
      "dtypes: float64(1), int64(19), object(5)\n",
      "memory usage: 19.8+ MB\n"
     ]
    }
   ],
   "source": [
    "#info method on airline data\n",
    "airline_data.info()"
   ]
  },
  {
   "cell_type": "code",
   "execution_count": 4,
   "id": "b837ce20",
   "metadata": {
    "execution": {
     "iopub.execute_input": "2022-11-09T15:39:05.626101Z",
     "iopub.status.busy": "2022-11-09T15:39:05.625481Z",
     "iopub.status.idle": "2022-11-09T15:39:05.657901Z",
     "shell.execute_reply": "2022-11-09T15:39:05.656726Z"
    },
    "papermill": {
     "duration": 0.041728,
     "end_time": "2022-11-09T15:39:05.660313",
     "exception": false,
     "start_time": "2022-11-09T15:39:05.618585",
     "status": "completed"
    },
    "tags": []
   },
   "outputs": [
    {
     "data": {
      "text/html": [
       "<div>\n",
       "<style scoped>\n",
       "    .dataframe tbody tr th:only-of-type {\n",
       "        vertical-align: middle;\n",
       "    }\n",
       "\n",
       "    .dataframe tbody tr th {\n",
       "        vertical-align: top;\n",
       "    }\n",
       "\n",
       "    .dataframe thead th {\n",
       "        text-align: right;\n",
       "    }\n",
       "</style>\n",
       "<table border=\"1\" class=\"dataframe\">\n",
       "  <thead>\n",
       "    <tr style=\"text-align: right;\">\n",
       "      <th></th>\n",
       "      <th>Unnamed: 0</th>\n",
       "      <th>id</th>\n",
       "      <th>Gender</th>\n",
       "      <th>Customer Type</th>\n",
       "      <th>Age</th>\n",
       "      <th>Type of Travel</th>\n",
       "      <th>Class</th>\n",
       "      <th>Flight Distance</th>\n",
       "      <th>Inflight wifi service</th>\n",
       "      <th>Departure/Arrival time convenient</th>\n",
       "      <th>...</th>\n",
       "      <th>Inflight entertainment</th>\n",
       "      <th>On-board service</th>\n",
       "      <th>Leg room service</th>\n",
       "      <th>Baggage handling</th>\n",
       "      <th>Checkin service</th>\n",
       "      <th>Inflight service</th>\n",
       "      <th>Cleanliness</th>\n",
       "      <th>Departure Delay in Minutes</th>\n",
       "      <th>Arrival Delay in Minutes</th>\n",
       "      <th>satisfaction</th>\n",
       "    </tr>\n",
       "  </thead>\n",
       "  <tbody>\n",
       "    <tr>\n",
       "      <th>0</th>\n",
       "      <td>0</td>\n",
       "      <td>70172</td>\n",
       "      <td>Male</td>\n",
       "      <td>Loyal Customer</td>\n",
       "      <td>13</td>\n",
       "      <td>Personal Travel</td>\n",
       "      <td>Eco Plus</td>\n",
       "      <td>460</td>\n",
       "      <td>3</td>\n",
       "      <td>4</td>\n",
       "      <td>...</td>\n",
       "      <td>5</td>\n",
       "      <td>4</td>\n",
       "      <td>3</td>\n",
       "      <td>4</td>\n",
       "      <td>4</td>\n",
       "      <td>5</td>\n",
       "      <td>5</td>\n",
       "      <td>25</td>\n",
       "      <td>18.0</td>\n",
       "      <td>neutral or dissatisfied</td>\n",
       "    </tr>\n",
       "    <tr>\n",
       "      <th>1</th>\n",
       "      <td>1</td>\n",
       "      <td>5047</td>\n",
       "      <td>Male</td>\n",
       "      <td>disloyal Customer</td>\n",
       "      <td>25</td>\n",
       "      <td>Business travel</td>\n",
       "      <td>Business</td>\n",
       "      <td>235</td>\n",
       "      <td>3</td>\n",
       "      <td>2</td>\n",
       "      <td>...</td>\n",
       "      <td>1</td>\n",
       "      <td>1</td>\n",
       "      <td>5</td>\n",
       "      <td>3</td>\n",
       "      <td>1</td>\n",
       "      <td>4</td>\n",
       "      <td>1</td>\n",
       "      <td>1</td>\n",
       "      <td>6.0</td>\n",
       "      <td>neutral or dissatisfied</td>\n",
       "    </tr>\n",
       "    <tr>\n",
       "      <th>2</th>\n",
       "      <td>2</td>\n",
       "      <td>110028</td>\n",
       "      <td>Female</td>\n",
       "      <td>Loyal Customer</td>\n",
       "      <td>26</td>\n",
       "      <td>Business travel</td>\n",
       "      <td>Business</td>\n",
       "      <td>1142</td>\n",
       "      <td>2</td>\n",
       "      <td>2</td>\n",
       "      <td>...</td>\n",
       "      <td>5</td>\n",
       "      <td>4</td>\n",
       "      <td>3</td>\n",
       "      <td>4</td>\n",
       "      <td>4</td>\n",
       "      <td>4</td>\n",
       "      <td>5</td>\n",
       "      <td>0</td>\n",
       "      <td>0.0</td>\n",
       "      <td>satisfied</td>\n",
       "    </tr>\n",
       "    <tr>\n",
       "      <th>3</th>\n",
       "      <td>3</td>\n",
       "      <td>24026</td>\n",
       "      <td>Female</td>\n",
       "      <td>Loyal Customer</td>\n",
       "      <td>25</td>\n",
       "      <td>Business travel</td>\n",
       "      <td>Business</td>\n",
       "      <td>562</td>\n",
       "      <td>2</td>\n",
       "      <td>5</td>\n",
       "      <td>...</td>\n",
       "      <td>2</td>\n",
       "      <td>2</td>\n",
       "      <td>5</td>\n",
       "      <td>3</td>\n",
       "      <td>1</td>\n",
       "      <td>4</td>\n",
       "      <td>2</td>\n",
       "      <td>11</td>\n",
       "      <td>9.0</td>\n",
       "      <td>neutral or dissatisfied</td>\n",
       "    </tr>\n",
       "    <tr>\n",
       "      <th>4</th>\n",
       "      <td>4</td>\n",
       "      <td>119299</td>\n",
       "      <td>Male</td>\n",
       "      <td>Loyal Customer</td>\n",
       "      <td>61</td>\n",
       "      <td>Business travel</td>\n",
       "      <td>Business</td>\n",
       "      <td>214</td>\n",
       "      <td>3</td>\n",
       "      <td>3</td>\n",
       "      <td>...</td>\n",
       "      <td>3</td>\n",
       "      <td>3</td>\n",
       "      <td>4</td>\n",
       "      <td>4</td>\n",
       "      <td>3</td>\n",
       "      <td>3</td>\n",
       "      <td>3</td>\n",
       "      <td>0</td>\n",
       "      <td>0.0</td>\n",
       "      <td>satisfied</td>\n",
       "    </tr>\n",
       "  </tbody>\n",
       "</table>\n",
       "<p>5 rows × 25 columns</p>\n",
       "</div>"
      ],
      "text/plain": [
       "   Unnamed: 0      id  Gender      Customer Type  Age   Type of Travel  \\\n",
       "0           0   70172    Male     Loyal Customer   13  Personal Travel   \n",
       "1           1    5047    Male  disloyal Customer   25  Business travel   \n",
       "2           2  110028  Female     Loyal Customer   26  Business travel   \n",
       "3           3   24026  Female     Loyal Customer   25  Business travel   \n",
       "4           4  119299    Male     Loyal Customer   61  Business travel   \n",
       "\n",
       "      Class  Flight Distance  Inflight wifi service  \\\n",
       "0  Eco Plus              460                      3   \n",
       "1  Business              235                      3   \n",
       "2  Business             1142                      2   \n",
       "3  Business              562                      2   \n",
       "4  Business              214                      3   \n",
       "\n",
       "   Departure/Arrival time convenient  ...  Inflight entertainment  \\\n",
       "0                                  4  ...                       5   \n",
       "1                                  2  ...                       1   \n",
       "2                                  2  ...                       5   \n",
       "3                                  5  ...                       2   \n",
       "4                                  3  ...                       3   \n",
       "\n",
       "   On-board service  Leg room service  Baggage handling  Checkin service  \\\n",
       "0                 4                 3                 4                4   \n",
       "1                 1                 5                 3                1   \n",
       "2                 4                 3                 4                4   \n",
       "3                 2                 5                 3                1   \n",
       "4                 3                 4                 4                3   \n",
       "\n",
       "   Inflight service  Cleanliness  Departure Delay in Minutes  \\\n",
       "0                 5            5                          25   \n",
       "1                 4            1                           1   \n",
       "2                 4            5                           0   \n",
       "3                 4            2                          11   \n",
       "4                 3            3                           0   \n",
       "\n",
       "   Arrival Delay in Minutes             satisfaction  \n",
       "0                      18.0  neutral or dissatisfied  \n",
       "1                       6.0  neutral or dissatisfied  \n",
       "2                       0.0                satisfied  \n",
       "3                       9.0  neutral or dissatisfied  \n",
       "4                       0.0                satisfied  \n",
       "\n",
       "[5 rows x 25 columns]"
      ]
     },
     "execution_count": 4,
     "metadata": {},
     "output_type": "execute_result"
    }
   ],
   "source": [
    "#head method on airline data\n",
    "airline_data.head()"
   ]
  },
  {
   "cell_type": "code",
   "execution_count": 5,
   "id": "0183afbe",
   "metadata": {
    "execution": {
     "iopub.execute_input": "2022-11-09T15:39:05.673706Z",
     "iopub.status.busy": "2022-11-09T15:39:05.673305Z",
     "iopub.status.idle": "2022-11-09T15:39:05.739989Z",
     "shell.execute_reply": "2022-11-09T15:39:05.738845Z"
    },
    "papermill": {
     "duration": 0.076002,
     "end_time": "2022-11-09T15:39:05.742227",
     "exception": false,
     "start_time": "2022-11-09T15:39:05.666225",
     "status": "completed"
    },
    "tags": []
   },
   "outputs": [
    {
     "data": {
      "text/html": [
       "<div>\n",
       "<style scoped>\n",
       "    .dataframe tbody tr th:only-of-type {\n",
       "        vertical-align: middle;\n",
       "    }\n",
       "\n",
       "    .dataframe tbody tr th {\n",
       "        vertical-align: top;\n",
       "    }\n",
       "\n",
       "    .dataframe thead th {\n",
       "        text-align: right;\n",
       "    }\n",
       "</style>\n",
       "<table border=\"1\" class=\"dataframe\">\n",
       "  <thead>\n",
       "    <tr style=\"text-align: right;\">\n",
       "      <th></th>\n",
       "      <th>count</th>\n",
       "      <th>%</th>\n",
       "    </tr>\n",
       "  </thead>\n",
       "  <tbody>\n",
       "    <tr>\n",
       "      <th>Arrival Delay in Minutes</th>\n",
       "      <td>310</td>\n",
       "      <td>0.298352</td>\n",
       "    </tr>\n",
       "    <tr>\n",
       "      <th>Unnamed: 0</th>\n",
       "      <td>0</td>\n",
       "      <td>0.000000</td>\n",
       "    </tr>\n",
       "    <tr>\n",
       "      <th>Online boarding</th>\n",
       "      <td>0</td>\n",
       "      <td>0.000000</td>\n",
       "    </tr>\n",
       "    <tr>\n",
       "      <th>Departure Delay in Minutes</th>\n",
       "      <td>0</td>\n",
       "      <td>0.000000</td>\n",
       "    </tr>\n",
       "    <tr>\n",
       "      <th>Cleanliness</th>\n",
       "      <td>0</td>\n",
       "      <td>0.000000</td>\n",
       "    </tr>\n",
       "    <tr>\n",
       "      <th>Inflight service</th>\n",
       "      <td>0</td>\n",
       "      <td>0.000000</td>\n",
       "    </tr>\n",
       "    <tr>\n",
       "      <th>Checkin service</th>\n",
       "      <td>0</td>\n",
       "      <td>0.000000</td>\n",
       "    </tr>\n",
       "    <tr>\n",
       "      <th>Baggage handling</th>\n",
       "      <td>0</td>\n",
       "      <td>0.000000</td>\n",
       "    </tr>\n",
       "    <tr>\n",
       "      <th>Leg room service</th>\n",
       "      <td>0</td>\n",
       "      <td>0.000000</td>\n",
       "    </tr>\n",
       "    <tr>\n",
       "      <th>On-board service</th>\n",
       "      <td>0</td>\n",
       "      <td>0.000000</td>\n",
       "    </tr>\n",
       "    <tr>\n",
       "      <th>Inflight entertainment</th>\n",
       "      <td>0</td>\n",
       "      <td>0.000000</td>\n",
       "    </tr>\n",
       "    <tr>\n",
       "      <th>Seat comfort</th>\n",
       "      <td>0</td>\n",
       "      <td>0.000000</td>\n",
       "    </tr>\n",
       "    <tr>\n",
       "      <th>Food and drink</th>\n",
       "      <td>0</td>\n",
       "      <td>0.000000</td>\n",
       "    </tr>\n",
       "    <tr>\n",
       "      <th>id</th>\n",
       "      <td>0</td>\n",
       "      <td>0.000000</td>\n",
       "    </tr>\n",
       "    <tr>\n",
       "      <th>Gate location</th>\n",
       "      <td>0</td>\n",
       "      <td>0.000000</td>\n",
       "    </tr>\n",
       "    <tr>\n",
       "      <th>Ease of Online booking</th>\n",
       "      <td>0</td>\n",
       "      <td>0.000000</td>\n",
       "    </tr>\n",
       "    <tr>\n",
       "      <th>Departure/Arrival time convenient</th>\n",
       "      <td>0</td>\n",
       "      <td>0.000000</td>\n",
       "    </tr>\n",
       "    <tr>\n",
       "      <th>Inflight wifi service</th>\n",
       "      <td>0</td>\n",
       "      <td>0.000000</td>\n",
       "    </tr>\n",
       "    <tr>\n",
       "      <th>Flight Distance</th>\n",
       "      <td>0</td>\n",
       "      <td>0.000000</td>\n",
       "    </tr>\n",
       "    <tr>\n",
       "      <th>Class</th>\n",
       "      <td>0</td>\n",
       "      <td>0.000000</td>\n",
       "    </tr>\n",
       "    <tr>\n",
       "      <th>Type of Travel</th>\n",
       "      <td>0</td>\n",
       "      <td>0.000000</td>\n",
       "    </tr>\n",
       "    <tr>\n",
       "      <th>Age</th>\n",
       "      <td>0</td>\n",
       "      <td>0.000000</td>\n",
       "    </tr>\n",
       "    <tr>\n",
       "      <th>Customer Type</th>\n",
       "      <td>0</td>\n",
       "      <td>0.000000</td>\n",
       "    </tr>\n",
       "    <tr>\n",
       "      <th>Gender</th>\n",
       "      <td>0</td>\n",
       "      <td>0.000000</td>\n",
       "    </tr>\n",
       "    <tr>\n",
       "      <th>satisfaction</th>\n",
       "      <td>0</td>\n",
       "      <td>0.000000</td>\n",
       "    </tr>\n",
       "  </tbody>\n",
       "</table>\n",
       "</div>"
      ],
      "text/plain": [
       "                                   count         %\n",
       "Arrival Delay in Minutes             310  0.298352\n",
       "Unnamed: 0                             0  0.000000\n",
       "Online boarding                        0  0.000000\n",
       "Departure Delay in Minutes             0  0.000000\n",
       "Cleanliness                            0  0.000000\n",
       "Inflight service                       0  0.000000\n",
       "Checkin service                        0  0.000000\n",
       "Baggage handling                       0  0.000000\n",
       "Leg room service                       0  0.000000\n",
       "On-board service                       0  0.000000\n",
       "Inflight entertainment                 0  0.000000\n",
       "Seat comfort                           0  0.000000\n",
       "Food and drink                         0  0.000000\n",
       "id                                     0  0.000000\n",
       "Gate location                          0  0.000000\n",
       "Ease of Online booking                 0  0.000000\n",
       "Departure/Arrival time convenient      0  0.000000\n",
       "Inflight wifi service                  0  0.000000\n",
       "Flight Distance                        0  0.000000\n",
       "Class                                  0  0.000000\n",
       "Type of Travel                         0  0.000000\n",
       "Age                                    0  0.000000\n",
       "Customer Type                          0  0.000000\n",
       "Gender                                 0  0.000000\n",
       "satisfaction                           0  0.000000"
      ]
     },
     "execution_count": 5,
     "metadata": {},
     "output_type": "execute_result"
    }
   ],
   "source": [
    "#Check missing data\n",
    "missing = pd.concat([airline_data.isnull().sum(), 100 * airline_data.isnull().mean()], axis=1)\n",
    "missing.columns=['count', '%']\n",
    "missing.sort_values(by='count', ascending = False)"
   ]
  },
  {
   "cell_type": "code",
   "execution_count": 6,
   "id": "d2b0272c",
   "metadata": {
    "execution": {
     "iopub.execute_input": "2022-11-09T15:39:05.757102Z",
     "iopub.status.busy": "2022-11-09T15:39:05.755932Z",
     "iopub.status.idle": "2022-11-09T15:39:05.776271Z",
     "shell.execute_reply": "2022-11-09T15:39:05.775127Z"
    },
    "papermill": {
     "duration": 0.030357,
     "end_time": "2022-11-09T15:39:05.778793",
     "exception": false,
     "start_time": "2022-11-09T15:39:05.748436",
     "status": "completed"
    },
    "tags": []
   },
   "outputs": [
    {
     "data": {
      "text/html": [
       "<div>\n",
       "<style scoped>\n",
       "    .dataframe tbody tr th:only-of-type {\n",
       "        vertical-align: middle;\n",
       "    }\n",
       "\n",
       "    .dataframe tbody tr th {\n",
       "        vertical-align: top;\n",
       "    }\n",
       "\n",
       "    .dataframe thead th {\n",
       "        text-align: right;\n",
       "    }\n",
       "</style>\n",
       "<table border=\"1\" class=\"dataframe\">\n",
       "  <thead>\n",
       "    <tr style=\"text-align: right;\">\n",
       "      <th></th>\n",
       "      <th>Gender</th>\n",
       "      <th>Customer Type</th>\n",
       "      <th>Type of Travel</th>\n",
       "      <th>Class</th>\n",
       "      <th>satisfaction</th>\n",
       "    </tr>\n",
       "  </thead>\n",
       "  <tbody>\n",
       "    <tr>\n",
       "      <th>0</th>\n",
       "      <td>Male</td>\n",
       "      <td>Loyal Customer</td>\n",
       "      <td>Personal Travel</td>\n",
       "      <td>Eco Plus</td>\n",
       "      <td>neutral or dissatisfied</td>\n",
       "    </tr>\n",
       "    <tr>\n",
       "      <th>1</th>\n",
       "      <td>Male</td>\n",
       "      <td>disloyal Customer</td>\n",
       "      <td>Business travel</td>\n",
       "      <td>Business</td>\n",
       "      <td>neutral or dissatisfied</td>\n",
       "    </tr>\n",
       "    <tr>\n",
       "      <th>2</th>\n",
       "      <td>Female</td>\n",
       "      <td>Loyal Customer</td>\n",
       "      <td>Business travel</td>\n",
       "      <td>Business</td>\n",
       "      <td>satisfied</td>\n",
       "    </tr>\n",
       "    <tr>\n",
       "      <th>3</th>\n",
       "      <td>Female</td>\n",
       "      <td>Loyal Customer</td>\n",
       "      <td>Business travel</td>\n",
       "      <td>Business</td>\n",
       "      <td>neutral or dissatisfied</td>\n",
       "    </tr>\n",
       "    <tr>\n",
       "      <th>4</th>\n",
       "      <td>Male</td>\n",
       "      <td>Loyal Customer</td>\n",
       "      <td>Business travel</td>\n",
       "      <td>Business</td>\n",
       "      <td>satisfied</td>\n",
       "    </tr>\n",
       "    <tr>\n",
       "      <th>...</th>\n",
       "      <td>...</td>\n",
       "      <td>...</td>\n",
       "      <td>...</td>\n",
       "      <td>...</td>\n",
       "      <td>...</td>\n",
       "    </tr>\n",
       "    <tr>\n",
       "      <th>103899</th>\n",
       "      <td>Female</td>\n",
       "      <td>disloyal Customer</td>\n",
       "      <td>Business travel</td>\n",
       "      <td>Eco</td>\n",
       "      <td>neutral or dissatisfied</td>\n",
       "    </tr>\n",
       "    <tr>\n",
       "      <th>103900</th>\n",
       "      <td>Male</td>\n",
       "      <td>Loyal Customer</td>\n",
       "      <td>Business travel</td>\n",
       "      <td>Business</td>\n",
       "      <td>satisfied</td>\n",
       "    </tr>\n",
       "    <tr>\n",
       "      <th>103901</th>\n",
       "      <td>Male</td>\n",
       "      <td>disloyal Customer</td>\n",
       "      <td>Business travel</td>\n",
       "      <td>Business</td>\n",
       "      <td>neutral or dissatisfied</td>\n",
       "    </tr>\n",
       "    <tr>\n",
       "      <th>103902</th>\n",
       "      <td>Female</td>\n",
       "      <td>disloyal Customer</td>\n",
       "      <td>Business travel</td>\n",
       "      <td>Eco</td>\n",
       "      <td>neutral or dissatisfied</td>\n",
       "    </tr>\n",
       "    <tr>\n",
       "      <th>103903</th>\n",
       "      <td>Male</td>\n",
       "      <td>Loyal Customer</td>\n",
       "      <td>Business travel</td>\n",
       "      <td>Business</td>\n",
       "      <td>neutral or dissatisfied</td>\n",
       "    </tr>\n",
       "  </tbody>\n",
       "</table>\n",
       "<p>103904 rows × 5 columns</p>\n",
       "</div>"
      ],
      "text/plain": [
       "        Gender      Customer Type   Type of Travel     Class  \\\n",
       "0         Male     Loyal Customer  Personal Travel  Eco Plus   \n",
       "1         Male  disloyal Customer  Business travel  Business   \n",
       "2       Female     Loyal Customer  Business travel  Business   \n",
       "3       Female     Loyal Customer  Business travel  Business   \n",
       "4         Male     Loyal Customer  Business travel  Business   \n",
       "...        ...                ...              ...       ...   \n",
       "103899  Female  disloyal Customer  Business travel       Eco   \n",
       "103900    Male     Loyal Customer  Business travel  Business   \n",
       "103901    Male  disloyal Customer  Business travel  Business   \n",
       "103902  Female  disloyal Customer  Business travel       Eco   \n",
       "103903    Male     Loyal Customer  Business travel  Business   \n",
       "\n",
       "                   satisfaction  \n",
       "0       neutral or dissatisfied  \n",
       "1       neutral or dissatisfied  \n",
       "2                     satisfied  \n",
       "3       neutral or dissatisfied  \n",
       "4                     satisfied  \n",
       "...                         ...  \n",
       "103899  neutral or dissatisfied  \n",
       "103900                satisfied  \n",
       "103901  neutral or dissatisfied  \n",
       "103902  neutral or dissatisfied  \n",
       "103903  neutral or dissatisfied  \n",
       "\n",
       "[103904 rows x 5 columns]"
      ]
     },
     "execution_count": 6,
     "metadata": {},
     "output_type": "execute_result"
    }
   ],
   "source": [
    "#Select dtypes\n",
    "airline_data.select_dtypes(object)"
   ]
  },
  {
   "cell_type": "code",
   "execution_count": 7,
   "id": "74270a2e",
   "metadata": {
    "execution": {
     "iopub.execute_input": "2022-11-09T15:39:05.793699Z",
     "iopub.status.busy": "2022-11-09T15:39:05.793309Z",
     "iopub.status.idle": "2022-11-09T15:39:05.812571Z",
     "shell.execute_reply": "2022-11-09T15:39:05.811520Z"
    },
    "papermill": {
     "duration": 0.029825,
     "end_time": "2022-11-09T15:39:05.815149",
     "exception": false,
     "start_time": "2022-11-09T15:39:05.785324",
     "status": "completed"
    },
    "tags": []
   },
   "outputs": [
    {
     "data": {
      "text/plain": [
       "70172     1\n",
       "116739    1\n",
       "6259      1\n",
       "17470     1\n",
       "118574    1\n",
       "Name: id, dtype: int64"
      ]
     },
     "execution_count": 7,
     "metadata": {},
     "output_type": "execute_result"
    }
   ],
   "source": [
    "#Value counts method for duplicate id's\n",
    "airline_data['id'].value_counts().head()"
   ]
  },
  {
   "cell_type": "code",
   "execution_count": 8,
   "id": "e9b69002",
   "metadata": {
    "execution": {
     "iopub.execute_input": "2022-11-09T15:39:05.830812Z",
     "iopub.status.busy": "2022-11-09T15:39:05.830415Z",
     "iopub.status.idle": "2022-11-09T15:39:05.845924Z",
     "shell.execute_reply": "2022-11-09T15:39:05.845024Z"
    },
    "papermill": {
     "duration": 0.02647,
     "end_time": "2022-11-09T15:39:05.848391",
     "exception": false,
     "start_time": "2022-11-09T15:39:05.821921",
     "status": "completed"
    },
    "tags": []
   },
   "outputs": [
    {
     "data": {
      "text/plain": [
       "Female    52727\n",
       "Male      51177\n",
       "Name: Gender, dtype: int64"
      ]
     },
     "execution_count": 8,
     "metadata": {},
     "output_type": "execute_result"
    }
   ],
   "source": [
    "#count number of times both genders have been used\n",
    "airline_data['Gender'].value_counts()"
   ]
  },
  {
   "cell_type": "code",
   "execution_count": 9,
   "id": "314b0444",
   "metadata": {
    "execution": {
     "iopub.execute_input": "2022-11-09T15:39:05.865313Z",
     "iopub.status.busy": "2022-11-09T15:39:05.864885Z",
     "iopub.status.idle": "2022-11-09T15:39:05.874661Z",
     "shell.execute_reply": "2022-11-09T15:39:05.873608Z"
    },
    "papermill": {
     "duration": 0.020325,
     "end_time": "2022-11-09T15:39:05.876944",
     "exception": false,
     "start_time": "2022-11-09T15:39:05.856619",
     "status": "completed"
    },
    "tags": []
   },
   "outputs": [
    {
     "data": {
      "text/plain": [
       "39    2969\n",
       "25    2798\n",
       "40    2574\n",
       "44    2482\n",
       "42    2457\n",
       "      ... \n",
       "74      47\n",
       "76      45\n",
       "79      42\n",
       "78      33\n",
       "85      17\n",
       "Name: Age, Length: 75, dtype: int64"
      ]
     },
     "execution_count": 9,
     "metadata": {},
     "output_type": "execute_result"
    }
   ],
   "source": [
    "#count number of times ages have been used\n",
    "airline_data['Age'].value_counts()"
   ]
  },
  {
   "cell_type": "code",
   "execution_count": 10,
   "id": "26478d8b",
   "metadata": {
    "execution": {
     "iopub.execute_input": "2022-11-09T15:39:05.892770Z",
     "iopub.status.busy": "2022-11-09T15:39:05.892368Z",
     "iopub.status.idle": "2022-11-09T15:39:05.907299Z",
     "shell.execute_reply": "2022-11-09T15:39:05.906055Z"
    },
    "papermill": {
     "duration": 0.025754,
     "end_time": "2022-11-09T15:39:05.909709",
     "exception": false,
     "start_time": "2022-11-09T15:39:05.883955",
     "status": "completed"
    },
    "tags": []
   },
   "outputs": [
    {
     "data": {
      "text/plain": [
       "Loyal Customer       84923\n",
       "disloyal Customer    18981\n",
       "Name: Customer Type, dtype: int64"
      ]
     },
     "execution_count": 10,
     "metadata": {},
     "output_type": "execute_result"
    }
   ],
   "source": [
    "#count number of times customer types have been used\n",
    "airline_data['Customer Type'].value_counts()"
   ]
  },
  {
   "cell_type": "code",
   "execution_count": 11,
   "id": "7db96cca",
   "metadata": {
    "execution": {
     "iopub.execute_input": "2022-11-09T15:39:05.926652Z",
     "iopub.status.busy": "2022-11-09T15:39:05.926268Z",
     "iopub.status.idle": "2022-11-09T15:39:05.940845Z",
     "shell.execute_reply": "2022-11-09T15:39:05.939771Z"
    },
    "papermill": {
     "duration": 0.02586,
     "end_time": "2022-11-09T15:39:05.943205",
     "exception": false,
     "start_time": "2022-11-09T15:39:05.917345",
     "status": "completed"
    },
    "tags": []
   },
   "outputs": [
    {
     "data": {
      "text/plain": [
       "Business travel    71655\n",
       "Personal Travel    32249\n",
       "Name: Type of Travel, dtype: int64"
      ]
     },
     "execution_count": 11,
     "metadata": {},
     "output_type": "execute_result"
    }
   ],
   "source": [
    "#count number of times Travel types have been used\n",
    "airline_data['Type of Travel'].value_counts()"
   ]
  },
  {
   "cell_type": "code",
   "execution_count": 12,
   "id": "f11c503b",
   "metadata": {
    "execution": {
     "iopub.execute_input": "2022-11-09T15:39:05.959052Z",
     "iopub.status.busy": "2022-11-09T15:39:05.958612Z",
     "iopub.status.idle": "2022-11-09T15:39:05.974181Z",
     "shell.execute_reply": "2022-11-09T15:39:05.973188Z"
    },
    "papermill": {
     "duration": 0.026088,
     "end_time": "2022-11-09T15:39:05.976323",
     "exception": false,
     "start_time": "2022-11-09T15:39:05.950235",
     "status": "completed"
    },
    "tags": []
   },
   "outputs": [
    {
     "data": {
      "text/plain": [
       "Business    49665\n",
       "Eco         46745\n",
       "Eco Plus     7494\n",
       "Name: Class, dtype: int64"
      ]
     },
     "execution_count": 12,
     "metadata": {},
     "output_type": "execute_result"
    }
   ],
   "source": [
    "#count number of times class has been used\n",
    "airline_data['Class'].value_counts()"
   ]
  },
  {
   "cell_type": "code",
   "execution_count": 13,
   "id": "abed5c06",
   "metadata": {
    "execution": {
     "iopub.execute_input": "2022-11-09T15:39:05.992873Z",
     "iopub.status.busy": "2022-11-09T15:39:05.992121Z",
     "iopub.status.idle": "2022-11-09T15:39:06.006727Z",
     "shell.execute_reply": "2022-11-09T15:39:06.005715Z"
    },
    "papermill": {
     "duration": 0.025429,
     "end_time": "2022-11-09T15:39:06.008987",
     "exception": false,
     "start_time": "2022-11-09T15:39:05.983558",
     "status": "completed"
    },
    "tags": []
   },
   "outputs": [
    {
     "data": {
      "text/plain": [
       "neutral or dissatisfied    58879\n",
       "satisfied                  45025\n",
       "Name: satisfaction, dtype: int64"
      ]
     },
     "execution_count": 13,
     "metadata": {},
     "output_type": "execute_result"
    }
   ],
   "source": [
    "#count number of times satisfaction has been marked\n",
    "airline_data['satisfaction'].value_counts()"
   ]
  },
  {
   "cell_type": "code",
   "execution_count": 14,
   "id": "b33d96c0",
   "metadata": {
    "execution": {
     "iopub.execute_input": "2022-11-09T15:39:06.025781Z",
     "iopub.status.busy": "2022-11-09T15:39:06.025014Z",
     "iopub.status.idle": "2022-11-09T15:39:06.091064Z",
     "shell.execute_reply": "2022-11-09T15:39:06.089673Z"
    },
    "papermill": {
     "duration": 0.080784,
     "end_time": "2022-11-09T15:39:06.097117",
     "exception": false,
     "start_time": "2022-11-09T15:39:06.016333",
     "status": "completed"
    },
    "tags": []
   },
   "outputs": [
    {
     "data": {
      "text/plain": [
       "Class     satisfaction           \n",
       "Business  satisfied                  34480\n",
       "          neutral or dissatisfied    15185\n",
       "Eco       neutral or dissatisfied    38044\n",
       "          satisfied                   8701\n",
       "Eco Plus  neutral or dissatisfied     5650\n",
       "          satisfied                   1844\n",
       "Name: satisfaction, dtype: int64"
      ]
     },
     "execution_count": 14,
     "metadata": {},
     "output_type": "execute_result"
    }
   ],
   "source": [
    "#Filter the airline_data dataframe for rows where 'Class' and 'satisfaction' are different,\n",
    "#group by method\n",
    "(airline_data[airline_data.Class != airline_data.satisfaction]\n",
    " .groupby('Class')['satisfaction']\n",
    " .value_counts())"
   ]
  },
  {
   "cell_type": "code",
   "execution_count": 15,
   "id": "a00b8e7d",
   "metadata": {
    "execution": {
     "iopub.execute_input": "2022-11-09T15:39:06.114952Z",
     "iopub.status.busy": "2022-11-09T15:39:06.114556Z",
     "iopub.status.idle": "2022-11-09T15:39:06.178447Z",
     "shell.execute_reply": "2022-11-09T15:39:06.177179Z"
    },
    "papermill": {
     "duration": 0.075108,
     "end_time": "2022-11-09T15:39:06.180872",
     "exception": false,
     "start_time": "2022-11-09T15:39:06.105764",
     "status": "completed"
    },
    "tags": []
   },
   "outputs": [
    {
     "data": {
      "text/plain": [
       "Gender  satisfaction           \n",
       "Female  neutral or dissatisfied    30193\n",
       "        satisfied                  22534\n",
       "Male    neutral or dissatisfied    28686\n",
       "        satisfied                  22491\n",
       "Name: satisfaction, dtype: int64"
      ]
     },
     "execution_count": 15,
     "metadata": {},
     "output_type": "execute_result"
    }
   ],
   "source": [
    "#Filter the airline_data dataframe for rows where 'Gender' and 'satisfaction' are different,\n",
    "#group by method\n",
    "(airline_data[airline_data.Gender != airline_data.satisfaction]\n",
    " .groupby('Gender')['satisfaction']\n",
    " .value_counts())"
   ]
  },
  {
   "cell_type": "code",
   "execution_count": 16,
   "id": "3d8f15db",
   "metadata": {
    "execution": {
     "iopub.execute_input": "2022-11-09T15:39:06.197839Z",
     "iopub.status.busy": "2022-11-09T15:39:06.197441Z",
     "iopub.status.idle": "2022-11-09T15:39:06.225342Z",
     "shell.execute_reply": "2022-11-09T15:39:06.224179Z"
    },
    "papermill": {
     "duration": 0.039423,
     "end_time": "2022-11-09T15:39:06.227798",
     "exception": false,
     "start_time": "2022-11-09T15:39:06.188375",
     "status": "completed"
    },
    "tags": []
   },
   "outputs": [
    {
     "data": {
      "text/plain": [
       "Class           3\n",
       "satisfaction    2\n",
       "dtype: int64"
      ]
     },
     "execution_count": 16,
     "metadata": {},
     "output_type": "execute_result"
    }
   ],
   "source": [
    "airline_data[['Class', 'satisfaction']].nunique()"
   ]
  },
  {
   "cell_type": "code",
   "execution_count": 17,
   "id": "d0288d17",
   "metadata": {
    "execution": {
     "iopub.execute_input": "2022-11-09T15:39:06.245469Z",
     "iopub.status.busy": "2022-11-09T15:39:06.245066Z",
     "iopub.status.idle": "2022-11-09T15:39:06.273400Z",
     "shell.execute_reply": "2022-11-09T15:39:06.272211Z"
    },
    "papermill": {
     "duration": 0.04022,
     "end_time": "2022-11-09T15:39:06.275883",
     "exception": false,
     "start_time": "2022-11-09T15:39:06.235663",
     "status": "completed"
    },
    "tags": []
   },
   "outputs": [
    {
     "data": {
      "text/plain": [
       "Gender          2\n",
       "satisfaction    2\n",
       "dtype: int64"
      ]
     },
     "execution_count": 17,
     "metadata": {},
     "output_type": "execute_result"
    }
   ],
   "source": [
    "airline_data[['Gender', 'satisfaction']].nunique()"
   ]
  },
  {
   "cell_type": "code",
   "execution_count": 18,
   "id": "2c2a8faa",
   "metadata": {
    "execution": {
     "iopub.execute_input": "2022-11-09T15:39:06.293368Z",
     "iopub.status.busy": "2022-11-09T15:39:06.292949Z",
     "iopub.status.idle": "2022-11-09T15:39:06.425309Z",
     "shell.execute_reply": "2022-11-09T15:39:06.424191Z"
    },
    "papermill": {
     "duration": 0.144167,
     "end_time": "2022-11-09T15:39:06.427961",
     "exception": false,
     "start_time": "2022-11-09T15:39:06.283794",
     "status": "completed"
    },
    "tags": []
   },
   "outputs": [
    {
     "data": {
      "text/html": [
       "<div>\n",
       "<style scoped>\n",
       "    .dataframe tbody tr th:only-of-type {\n",
       "        vertical-align: middle;\n",
       "    }\n",
       "\n",
       "    .dataframe tbody tr th {\n",
       "        vertical-align: top;\n",
       "    }\n",
       "\n",
       "    .dataframe thead th {\n",
       "        text-align: right;\n",
       "    }\n",
       "</style>\n",
       "<table border=\"1\" class=\"dataframe\">\n",
       "  <thead>\n",
       "    <tr style=\"text-align: right;\">\n",
       "      <th></th>\n",
       "      <th>count</th>\n",
       "      <th>mean</th>\n",
       "      <th>std</th>\n",
       "      <th>min</th>\n",
       "      <th>25%</th>\n",
       "      <th>50%</th>\n",
       "      <th>75%</th>\n",
       "      <th>max</th>\n",
       "    </tr>\n",
       "  </thead>\n",
       "  <tbody>\n",
       "    <tr>\n",
       "      <th>Unnamed: 0</th>\n",
       "      <td>103904.0</td>\n",
       "      <td>51951.500000</td>\n",
       "      <td>29994.645522</td>\n",
       "      <td>0.0</td>\n",
       "      <td>25975.75</td>\n",
       "      <td>51951.5</td>\n",
       "      <td>77927.25</td>\n",
       "      <td>103903.0</td>\n",
       "    </tr>\n",
       "    <tr>\n",
       "      <th>id</th>\n",
       "      <td>103904.0</td>\n",
       "      <td>64924.210502</td>\n",
       "      <td>37463.812252</td>\n",
       "      <td>1.0</td>\n",
       "      <td>32533.75</td>\n",
       "      <td>64856.5</td>\n",
       "      <td>97368.25</td>\n",
       "      <td>129880.0</td>\n",
       "    </tr>\n",
       "    <tr>\n",
       "      <th>Age</th>\n",
       "      <td>103904.0</td>\n",
       "      <td>39.379706</td>\n",
       "      <td>15.114964</td>\n",
       "      <td>7.0</td>\n",
       "      <td>27.00</td>\n",
       "      <td>40.0</td>\n",
       "      <td>51.00</td>\n",
       "      <td>85.0</td>\n",
       "    </tr>\n",
       "    <tr>\n",
       "      <th>Flight Distance</th>\n",
       "      <td>103904.0</td>\n",
       "      <td>1189.448375</td>\n",
       "      <td>997.147281</td>\n",
       "      <td>31.0</td>\n",
       "      <td>414.00</td>\n",
       "      <td>843.0</td>\n",
       "      <td>1743.00</td>\n",
       "      <td>4983.0</td>\n",
       "    </tr>\n",
       "    <tr>\n",
       "      <th>Inflight wifi service</th>\n",
       "      <td>103904.0</td>\n",
       "      <td>2.729683</td>\n",
       "      <td>1.327829</td>\n",
       "      <td>0.0</td>\n",
       "      <td>2.00</td>\n",
       "      <td>3.0</td>\n",
       "      <td>4.00</td>\n",
       "      <td>5.0</td>\n",
       "    </tr>\n",
       "    <tr>\n",
       "      <th>Departure/Arrival time convenient</th>\n",
       "      <td>103904.0</td>\n",
       "      <td>3.060296</td>\n",
       "      <td>1.525075</td>\n",
       "      <td>0.0</td>\n",
       "      <td>2.00</td>\n",
       "      <td>3.0</td>\n",
       "      <td>4.00</td>\n",
       "      <td>5.0</td>\n",
       "    </tr>\n",
       "    <tr>\n",
       "      <th>Ease of Online booking</th>\n",
       "      <td>103904.0</td>\n",
       "      <td>2.756901</td>\n",
       "      <td>1.398929</td>\n",
       "      <td>0.0</td>\n",
       "      <td>2.00</td>\n",
       "      <td>3.0</td>\n",
       "      <td>4.00</td>\n",
       "      <td>5.0</td>\n",
       "    </tr>\n",
       "    <tr>\n",
       "      <th>Gate location</th>\n",
       "      <td>103904.0</td>\n",
       "      <td>2.976883</td>\n",
       "      <td>1.277621</td>\n",
       "      <td>0.0</td>\n",
       "      <td>2.00</td>\n",
       "      <td>3.0</td>\n",
       "      <td>4.00</td>\n",
       "      <td>5.0</td>\n",
       "    </tr>\n",
       "    <tr>\n",
       "      <th>Food and drink</th>\n",
       "      <td>103904.0</td>\n",
       "      <td>3.202129</td>\n",
       "      <td>1.329533</td>\n",
       "      <td>0.0</td>\n",
       "      <td>2.00</td>\n",
       "      <td>3.0</td>\n",
       "      <td>4.00</td>\n",
       "      <td>5.0</td>\n",
       "    </tr>\n",
       "    <tr>\n",
       "      <th>Online boarding</th>\n",
       "      <td>103904.0</td>\n",
       "      <td>3.250375</td>\n",
       "      <td>1.349509</td>\n",
       "      <td>0.0</td>\n",
       "      <td>2.00</td>\n",
       "      <td>3.0</td>\n",
       "      <td>4.00</td>\n",
       "      <td>5.0</td>\n",
       "    </tr>\n",
       "    <tr>\n",
       "      <th>Seat comfort</th>\n",
       "      <td>103904.0</td>\n",
       "      <td>3.439396</td>\n",
       "      <td>1.319088</td>\n",
       "      <td>0.0</td>\n",
       "      <td>2.00</td>\n",
       "      <td>4.0</td>\n",
       "      <td>5.00</td>\n",
       "      <td>5.0</td>\n",
       "    </tr>\n",
       "    <tr>\n",
       "      <th>Inflight entertainment</th>\n",
       "      <td>103904.0</td>\n",
       "      <td>3.358158</td>\n",
       "      <td>1.332991</td>\n",
       "      <td>0.0</td>\n",
       "      <td>2.00</td>\n",
       "      <td>4.0</td>\n",
       "      <td>4.00</td>\n",
       "      <td>5.0</td>\n",
       "    </tr>\n",
       "    <tr>\n",
       "      <th>On-board service</th>\n",
       "      <td>103904.0</td>\n",
       "      <td>3.382363</td>\n",
       "      <td>1.288354</td>\n",
       "      <td>0.0</td>\n",
       "      <td>2.00</td>\n",
       "      <td>4.0</td>\n",
       "      <td>4.00</td>\n",
       "      <td>5.0</td>\n",
       "    </tr>\n",
       "    <tr>\n",
       "      <th>Leg room service</th>\n",
       "      <td>103904.0</td>\n",
       "      <td>3.351055</td>\n",
       "      <td>1.315605</td>\n",
       "      <td>0.0</td>\n",
       "      <td>2.00</td>\n",
       "      <td>4.0</td>\n",
       "      <td>4.00</td>\n",
       "      <td>5.0</td>\n",
       "    </tr>\n",
       "    <tr>\n",
       "      <th>Baggage handling</th>\n",
       "      <td>103904.0</td>\n",
       "      <td>3.631833</td>\n",
       "      <td>1.180903</td>\n",
       "      <td>1.0</td>\n",
       "      <td>3.00</td>\n",
       "      <td>4.0</td>\n",
       "      <td>5.00</td>\n",
       "      <td>5.0</td>\n",
       "    </tr>\n",
       "    <tr>\n",
       "      <th>Checkin service</th>\n",
       "      <td>103904.0</td>\n",
       "      <td>3.304290</td>\n",
       "      <td>1.265396</td>\n",
       "      <td>0.0</td>\n",
       "      <td>3.00</td>\n",
       "      <td>3.0</td>\n",
       "      <td>4.00</td>\n",
       "      <td>5.0</td>\n",
       "    </tr>\n",
       "    <tr>\n",
       "      <th>Inflight service</th>\n",
       "      <td>103904.0</td>\n",
       "      <td>3.640428</td>\n",
       "      <td>1.175663</td>\n",
       "      <td>0.0</td>\n",
       "      <td>3.00</td>\n",
       "      <td>4.0</td>\n",
       "      <td>5.00</td>\n",
       "      <td>5.0</td>\n",
       "    </tr>\n",
       "    <tr>\n",
       "      <th>Cleanliness</th>\n",
       "      <td>103904.0</td>\n",
       "      <td>3.286351</td>\n",
       "      <td>1.312273</td>\n",
       "      <td>0.0</td>\n",
       "      <td>2.00</td>\n",
       "      <td>3.0</td>\n",
       "      <td>4.00</td>\n",
       "      <td>5.0</td>\n",
       "    </tr>\n",
       "    <tr>\n",
       "      <th>Departure Delay in Minutes</th>\n",
       "      <td>103904.0</td>\n",
       "      <td>14.815618</td>\n",
       "      <td>38.230901</td>\n",
       "      <td>0.0</td>\n",
       "      <td>0.00</td>\n",
       "      <td>0.0</td>\n",
       "      <td>12.00</td>\n",
       "      <td>1592.0</td>\n",
       "    </tr>\n",
       "    <tr>\n",
       "      <th>Arrival Delay in Minutes</th>\n",
       "      <td>103594.0</td>\n",
       "      <td>15.178678</td>\n",
       "      <td>38.698682</td>\n",
       "      <td>0.0</td>\n",
       "      <td>0.00</td>\n",
       "      <td>0.0</td>\n",
       "      <td>13.00</td>\n",
       "      <td>1584.0</td>\n",
       "    </tr>\n",
       "  </tbody>\n",
       "</table>\n",
       "</div>"
      ],
      "text/plain": [
       "                                      count          mean           std   min  \\\n",
       "Unnamed: 0                         103904.0  51951.500000  29994.645522   0.0   \n",
       "id                                 103904.0  64924.210502  37463.812252   1.0   \n",
       "Age                                103904.0     39.379706     15.114964   7.0   \n",
       "Flight Distance                    103904.0   1189.448375    997.147281  31.0   \n",
       "Inflight wifi service              103904.0      2.729683      1.327829   0.0   \n",
       "Departure/Arrival time convenient  103904.0      3.060296      1.525075   0.0   \n",
       "Ease of Online booking             103904.0      2.756901      1.398929   0.0   \n",
       "Gate location                      103904.0      2.976883      1.277621   0.0   \n",
       "Food and drink                     103904.0      3.202129      1.329533   0.0   \n",
       "Online boarding                    103904.0      3.250375      1.349509   0.0   \n",
       "Seat comfort                       103904.0      3.439396      1.319088   0.0   \n",
       "Inflight entertainment             103904.0      3.358158      1.332991   0.0   \n",
       "On-board service                   103904.0      3.382363      1.288354   0.0   \n",
       "Leg room service                   103904.0      3.351055      1.315605   0.0   \n",
       "Baggage handling                   103904.0      3.631833      1.180903   1.0   \n",
       "Checkin service                    103904.0      3.304290      1.265396   0.0   \n",
       "Inflight service                   103904.0      3.640428      1.175663   0.0   \n",
       "Cleanliness                        103904.0      3.286351      1.312273   0.0   \n",
       "Departure Delay in Minutes         103904.0     14.815618     38.230901   0.0   \n",
       "Arrival Delay in Minutes           103594.0     15.178678     38.698682   0.0   \n",
       "\n",
       "                                        25%      50%       75%       max  \n",
       "Unnamed: 0                         25975.75  51951.5  77927.25  103903.0  \n",
       "id                                 32533.75  64856.5  97368.25  129880.0  \n",
       "Age                                   27.00     40.0     51.00      85.0  \n",
       "Flight Distance                      414.00    843.0   1743.00    4983.0  \n",
       "Inflight wifi service                  2.00      3.0      4.00       5.0  \n",
       "Departure/Arrival time convenient      2.00      3.0      4.00       5.0  \n",
       "Ease of Online booking                 2.00      3.0      4.00       5.0  \n",
       "Gate location                          2.00      3.0      4.00       5.0  \n",
       "Food and drink                         2.00      3.0      4.00       5.0  \n",
       "Online boarding                        2.00      3.0      4.00       5.0  \n",
       "Seat comfort                           2.00      4.0      5.00       5.0  \n",
       "Inflight entertainment                 2.00      4.0      4.00       5.0  \n",
       "On-board service                       2.00      4.0      4.00       5.0  \n",
       "Leg room service                       2.00      4.0      4.00       5.0  \n",
       "Baggage handling                       3.00      4.0      5.00       5.0  \n",
       "Checkin service                        3.00      3.0      4.00       5.0  \n",
       "Inflight service                       3.00      4.0      5.00       5.0  \n",
       "Cleanliness                            2.00      3.0      4.00       5.0  \n",
       "Departure Delay in Minutes             0.00      0.0     12.00    1592.0  \n",
       "Arrival Delay in Minutes               0.00      0.0     13.00    1584.0  "
      ]
     },
     "execution_count": 18,
     "metadata": {},
     "output_type": "execute_result"
    }
   ],
   "source": [
    "#airline_data `describe` method called for a stat summary of columns\n",
    "airline_data.describe().T"
   ]
  },
  {
   "cell_type": "code",
   "execution_count": null,
   "id": "d3aa6542",
   "metadata": {
    "papermill": {
     "duration": 0.009098,
     "end_time": "2022-11-09T15:39:06.446668",
     "exception": false,
     "start_time": "2022-11-09T15:39:06.437570",
     "status": "completed"
    },
    "tags": []
   },
   "outputs": [],
   "source": []
  },
  {
   "cell_type": "code",
   "execution_count": null,
   "id": "76419068",
   "metadata": {
    "papermill": {
     "duration": 0.008444,
     "end_time": "2022-11-09T15:39:06.463323",
     "exception": false,
     "start_time": "2022-11-09T15:39:06.454879",
     "status": "completed"
    },
    "tags": []
   },
   "outputs": [],
   "source": []
  },
  {
   "cell_type": "code",
   "execution_count": null,
   "id": "b4756743",
   "metadata": {
    "papermill": {
     "duration": 0.007958,
     "end_time": "2022-11-09T15:39:06.479648",
     "exception": false,
     "start_time": "2022-11-09T15:39:06.471690",
     "status": "completed"
    },
    "tags": []
   },
   "outputs": [],
   "source": []
  }
 ],
 "metadata": {
  "kernelspec": {
   "display_name": "Python 3",
   "language": "python",
   "name": "python3"
  },
  "language_info": {
   "codemirror_mode": {
    "name": "ipython",
    "version": 3
   },
   "file_extension": ".py",
   "mimetype": "text/x-python",
   "name": "python",
   "nbconvert_exporter": "python",
   "pygments_lexer": "ipython3",
   "version": "3.7.12"
  },
  "papermill": {
   "default_parameters": {},
   "duration": 13.265802,
   "end_time": "2022-11-09T15:39:07.310111",
   "environment_variables": {},
   "exception": null,
   "input_path": "__notebook__.ipynb",
   "output_path": "__notebook__.ipynb",
   "parameters": {},
   "start_time": "2022-11-09T15:38:54.044309",
   "version": "2.3.4"
  }
 },
 "nbformat": 4,
 "nbformat_minor": 5
}
